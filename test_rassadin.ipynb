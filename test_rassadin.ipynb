{
 "cells": [
  {
   "cell_type": "markdown",
   "id": "4e8a17f2-792f-47d2-99c8-fb7124220f0c",
   "metadata": {},
   "source": [
    "# Тестовое задание, Рассадин Ярослав"
   ]
  },
  {
   "cell_type": "markdown",
   "id": "086fc8fd-e9e2-4613-abf4-ead10620a5a4",
   "metadata": {},
   "source": [
    "## Описание задачи"
   ]
  },
  {
   "cell_type": "markdown",
   "id": "66f08010-7b9b-434a-8850-209f3b735918",
   "metadata": {},
   "source": [
    "Необходимо создать следующие таблицы и наполнить их не менее чем 1 миллионом строк:\n",
    "\n",
    "- таблица \"users\" с полями: id, name, email, created_at\n",
    "- таблица \"orders\" с полями: id, user_id, total_price, created_at\n",
    "- таблица \"order_items\" с полями: id, order_id, product_name, price, quantity\n",
    "\n",
    "Также необходимо написать запросы, используя ClickHouse:\n",
    "\n",
    "1.\tНайти общее количество заказов каждого пользователя, который сделал более 10 заказов.\n",
    "2.\tНайти средний размер заказа для каждого пользователя за последний месяц.\n",
    "3.\tНайти средний размер заказа за каждый месяц в текущем году и сравнить его с средним размером заказа за соответствующий месяц в прошлом году.\n",
    "4.\tНайти 10 пользователей, у которых наибольшее количество заказов за последний год, и для каждого из них найти средний размер заказа за последний месяц."
   ]
  },
  {
   "cell_type": "markdown",
   "id": "04514457-1596-424d-b0c8-d41b8bebec34",
   "metadata": {},
   "source": [
    "## Подготовка данных для формирования запросов"
   ]
  },
  {
   "cell_type": "code",
   "execution_count": 1,
   "id": "e09c0eab-80b6-49eb-91de-7ca4d0dd5804",
   "metadata": {},
   "outputs": [],
   "source": [
    "from clickhouse_driver import Client\n",
    "import random\n",
    "import string\n",
    "from datetime import datetime, timedelta\n",
    "import pandas as pd"
   ]
  },
  {
   "cell_type": "markdown",
   "id": "722da157-01e7-4121-83e5-0fa350c0933b",
   "metadata": {},
   "source": [
    "### Подключение к локальной базе"
   ]
  },
  {
   "cell_type": "code",
   "execution_count": 2,
   "id": "7da5c089-a373-4875-b491-171ea1051214",
   "metadata": {},
   "outputs": [
    {
     "data": {
      "text/plain": [
       "[]"
      ]
     },
     "execution_count": 2,
     "metadata": {},
     "output_type": "execute_result"
    }
   ],
   "source": [
    "client = Client(host='localhost')\n",
    "\n",
    "client.execute('CREATE DATABASE IF NOT EXISTS test_db')\n",
    "client.execute('USE test_db')"
   ]
  },
  {
   "cell_type": "code",
   "execution_count": 19,
   "id": "274d86c9-13dc-478c-9fae-261414d1efa9",
   "metadata": {},
   "outputs": [
    {
     "data": {
      "text/plain": [
       "[('22.1.3.7',)]"
      ]
     },
     "execution_count": 19,
     "metadata": {},
     "output_type": "execute_result"
    }
   ],
   "source": [
    "# Версия ClickHouse\n",
    "client.execute(f'SELECT version()')"
   ]
  },
  {
   "cell_type": "code",
   "execution_count": 3,
   "id": "7d0e139b-43a6-4749-8595-8c8083f45446",
   "metadata": {},
   "outputs": [
    {
     "name": "stdout",
     "output_type": "stream",
     "text": [
      "Таблица order_items успешно удалена.\n",
      "Таблица orders успешно удалена.\n",
      "Таблица users успешно удалена.\n"
     ]
    }
   ],
   "source": [
    "# Очистка таблиц после тестовых запусков\n",
    "tables = client.execute(f'SHOW TABLES FROM test_db')\n",
    "\n",
    "for table in tables:\n",
    "    table_name = table[0]\n",
    "    client.execute(f'DROP TABLE IF EXISTS test_db.{table_name}')\n",
    "    print(f\"Таблица {table_name} успешно удалена.\")"
   ]
  },
  {
   "cell_type": "markdown",
   "id": "f4efb4b5-dfb5-429b-aaf4-f91704e6616a",
   "metadata": {},
   "source": [
    "### Создание таблиц "
   ]
  },
  {
   "cell_type": "code",
   "execution_count": 4,
   "id": "527c2271-cab7-440d-b784-e1dbfbfe7947",
   "metadata": {},
   "outputs": [
    {
     "data": {
      "text/plain": [
       "[]"
      ]
     },
     "execution_count": 4,
     "metadata": {},
     "output_type": "execute_result"
    }
   ],
   "source": [
    "client.execute('''\n",
    "    CREATE TABLE IF NOT EXISTS users (\n",
    "        id UInt64,\n",
    "        name String,\n",
    "        email String,\n",
    "        created_at DateTime\n",
    "    ) ENGINE = MergeTree()\n",
    "    ORDER BY id\n",
    "    ''')\n",
    "\n",
    "client.execute('''\n",
    "    CREATE TABLE IF NOT EXISTS orders (\n",
    "        id UInt64,\n",
    "        user_id UInt64,\n",
    "        total_price Float64,\n",
    "        created_at DateTime\n",
    "    ) ENGINE = MergeTree()\n",
    "    ORDER BY id\n",
    "    ''')\n",
    "\n",
    "client.execute('''\n",
    "    CREATE TABLE IF NOT EXISTS order_items (\n",
    "        id UInt64,\n",
    "        order_id UInt64,\n",
    "        product_name String,\n",
    "        price Float64,\n",
    "        quantity UInt32\n",
    "    ) ENGINE = MergeTree()\n",
    "    ORDER BY id\n",
    "    ''')"
   ]
  },
  {
   "cell_type": "markdown",
   "id": "9e37761e-3f6a-44a9-b462-bfb103166413",
   "metadata": {},
   "source": [
    "### Заполнение таблиц данными "
   ]
  },
  {
   "cell_type": "markdown",
   "id": "de5e30ef-4b4c-4d08-9d99-b68714d32928",
   "metadata": {},
   "source": [
    "#### Генерация уникальных ID для пользователей\n"
   ]
  },
  {
   "cell_type": "code",
   "execution_count": 5,
   "id": "7e02227c-d222-476a-b459-c9513b536211",
   "metadata": {},
   "outputs": [],
   "source": [
    "def generate_unique_user_ids(n):\n",
    "    ids = set()\n",
    "    while len(ids) < n:\n",
    "        ids.add(random.randint(1000000000, 9999999999)) \n",
    "    return list(ids)"
   ]
  },
  {
   "cell_type": "markdown",
   "id": "3be9c48c-d34c-4657-9aa2-bb0a7d95d99b",
   "metadata": {},
   "source": [
    "#### Таблица users "
   ]
  },
  {
   "cell_type": "markdown",
   "id": "140b979a-b150-4ed5-a93c-c84d5b776d7a",
   "metadata": {},
   "source": [
    "Создана таблица **users**, состоящая из 1 миллиона строк, где:\n",
    "- id - случайное число от 1000000000 до 9999999999,\n",
    "- name - строка из 10 случайных заглавных и строчных букв,\n",
    "- email - формируется на основе имени только из строчных букв и добававляется домен mail.ru,\n",
    "- created_at - дата создания генерируется случайно в пределах 3 последних лет."
   ]
  },
  {
   "cell_type": "code",
   "execution_count": 6,
   "id": "20101bb5-d037-4e9e-a307-f851dafbe278",
   "metadata": {},
   "outputs": [
    {
     "name": "stdout",
     "output_type": "stream",
     "text": [
      "Execution time: 0:00:21.548088\n"
     ]
    }
   ],
   "source": [
    "start_time = datetime.now()\n",
    "\n",
    "num_users = 1000000\n",
    "user_ids = generate_unique_user_ids(num_users)\n",
    "users = []\n",
    "\n",
    "for i, user_id in enumerate(user_ids):\n",
    "    name = ''.join(random.choices(string.ascii_letters, k=10))\n",
    "    email = f'{name.lower()}@mail.ru'\n",
    "    created_at = datetime.now() - timedelta(days=random.randint(0, 3 * 365))  # случайная дата за 3 года\n",
    "    users.append((user_id, name, email, created_at))\n",
    "\n",
    "client.execute('INSERT INTO users (id, name, email, created_at) VALUES', users)\n",
    "\n",
    "end_time = datetime.now()\n",
    "print(\"Execution time:\", end_time - start_time)"
   ]
  },
  {
   "cell_type": "code",
   "execution_count": 7,
   "id": "beb9a80e-62fd-4a04-927e-e562e1a9804c",
   "metadata": {},
   "outputs": [
    {
     "name": "stdout",
     "output_type": "stream",
     "text": [
      "Количество строк в таблице users: 1000000\n"
     ]
    }
   ],
   "source": [
    "row_count = client.execute('SELECT COUNT(*) FROM users')\n",
    "print(\"Количество строк в таблице users:\", row_count[0][0])"
   ]
  },
  {
   "cell_type": "markdown",
   "id": "c0d9c02f-741e-4dc1-8303-e585349efabd",
   "metadata": {},
   "source": [
    "#### Таблица orders"
   ]
  },
  {
   "cell_type": "code",
   "execution_count": 8,
   "id": "1226c0f0-63a7-4c9a-9f2f-46d176e2fc4b",
   "metadata": {},
   "outputs": [
    {
     "name": "stdout",
     "output_type": "stream",
     "text": [
      "Execution time: 0:00:44.880076\n"
     ]
    }
   ],
   "source": [
    "start_time = datetime.now()\n",
    "\n",
    "orders = []\n",
    "order_counts = {}\n",
    "\n",
    "# Код ниже заполняет таблицу orders по следующим правилам:\n",
    "\n",
    "# 39% пользователей имеют 1 заказ\n",
    "# 30% пользователей имеют от 2 до 3 заказов\n",
    "# 20% пользователей имеют от 3 до 5 заказов\n",
    "# 10% пользователей имеют от 5 до 10 заказов    \n",
    "# 1% пользователей имеют от 10 до 50 заказов\n",
    "\n",
    "\n",
    "for user_id in user_ids:\n",
    "    rand_value = random.uniform(0, 1)  \n",
    "    \n",
    "    if rand_value < 0.39:  # 39%\n",
    "        order_count = 1\n",
    "    elif rand_value < 0.69:  # 30%\n",
    "        order_count = random.randint(2, 3)\n",
    "    elif rand_value < 0.89:  # 20%\n",
    "        order_count = random.randint(3, 5)\n",
    "    elif rand_value < 0.99:  # 10%\n",
    "        order_count = random.randint(5, 10)\n",
    "    else:  # 1%\n",
    "        order_count = random.randint(10, 50)\n",
    "\n",
    "    order_counts[user_id] = order_count\n",
    "\n",
    "for user_id, count in order_counts.items():\n",
    "    for _ in range(count):\n",
    "        total_price = round(random.uniform(10, 500), 2)  \n",
    "\n",
    "        days_in_two_years = 3 * 365 # генерация записей за последние 3 года\n",
    "        random_days = random.randint(0, days_in_two_years)\n",
    "        created_at = datetime.now() - timedelta(days=random_days) \n",
    "        \n",
    "        orders.append((len(orders) + 1, user_id, total_price, created_at))  # уникальный id заказов\n",
    "client.execute('INSERT INTO orders (id, user_id, total_price, created_at) VALUES', orders)\n",
    "\n",
    "end_time = datetime.now()\n",
    "print(\"Execution time:\", end_time - start_time)"
   ]
  },
  {
   "cell_type": "code",
   "execution_count": 9,
   "id": "8540dd96-b618-4cbb-8927-89c7bc35b753",
   "metadata": {},
   "outputs": [
    {
     "name": "stdout",
     "output_type": "stream",
     "text": [
      "Количество строк в таблице orders: 2988164\n"
     ]
    }
   ],
   "source": [
    "row_count = client.execute('SELECT COUNT(*) FROM orders')\n",
    "print(\"Количество строк в таблице orders:\", row_count[0][0])"
   ]
  },
  {
   "cell_type": "markdown",
   "id": "ca3533ac-a3c3-4c30-a3f8-8108ca9b39d2",
   "metadata": {},
   "source": [
    "#### Таблица order_items"
   ]
  },
  {
   "cell_type": "code",
   "execution_count": 10,
   "id": "3671f224-0cbb-459d-862c-c414e0fb0f95",
   "metadata": {},
   "outputs": [
    {
     "name": "stdout",
     "output_type": "stream",
     "text": [
      "Execution time: 0:01:25.253057\n"
     ]
    }
   ],
   "source": [
    "start_time = datetime.now()\n",
    "\n",
    "order_items = []\n",
    "\n",
    "for order in orders:\n",
    "    order_id = order[0]\n",
    "    num_items = random.randint(1, 5)  \n",
    "    \n",
    "    for _ in range(num_items):\n",
    "        product_name = f\"Product{random.randint(1, 100)}\"\n",
    "        price = round(random.uniform(1, 50000), 2)\n",
    "        quantity = random.randint(1, 10)  \n",
    "        order_items.append((len(order_items) + 1, order_id, product_name, price, quantity))\n",
    "\n",
    "client.execute('INSERT INTO order_items (id, order_id, product_name, price, quantity) VALUES', order_items)\n",
    "\n",
    "end_time = datetime.now()\n",
    "print(\"Execution time:\", end_time - start_time)"
   ]
  },
  {
   "cell_type": "code",
   "execution_count": 11,
   "id": "75295b05-74fd-44a1-91af-73ac05bb52d7",
   "metadata": {},
   "outputs": [
    {
     "name": "stdout",
     "output_type": "stream",
     "text": [
      "Количество строк в таблице order_items: 8967328\n"
     ]
    }
   ],
   "source": [
    "row_count = client.execute('SELECT COUNT(*) FROM order_items')\n",
    "print(\"Количество строк в таблице order_items:\", row_count[0][0])"
   ]
  },
  {
   "cell_type": "markdown",
   "id": "527a29bd-9464-45be-8c3e-c89ec3774174",
   "metadata": {},
   "source": [
    "## Написание запросов"
   ]
  },
  {
   "cell_type": "markdown",
   "id": "fcf6250a-36ee-4e05-8836-ca52ac9c26c6",
   "metadata": {},
   "source": [
    "### Общее количество заказов каждого пользователя, который сделал более 10 заказов"
   ]
  },
  {
   "cell_type": "code",
   "execution_count": 12,
   "id": "109e4f77-969a-4f53-a39b-21c43cb80cd6",
   "metadata": {},
   "outputs": [
    {
     "data": {
      "text/html": [
       "<div>\n",
       "<style scoped>\n",
       "    .dataframe tbody tr th:only-of-type {\n",
       "        vertical-align: middle;\n",
       "    }\n",
       "\n",
       "    .dataframe tbody tr th {\n",
       "        vertical-align: top;\n",
       "    }\n",
       "\n",
       "    .dataframe thead th {\n",
       "        text-align: right;\n",
       "    }\n",
       "</style>\n",
       "<table border=\"1\" class=\"dataframe\">\n",
       "  <thead>\n",
       "    <tr style=\"text-align: right;\">\n",
       "      <th></th>\n",
       "      <th>user_id</th>\n",
       "      <th>user_name</th>\n",
       "      <th>total_orders</th>\n",
       "    </tr>\n",
       "  </thead>\n",
       "  <tbody>\n",
       "    <tr>\n",
       "      <th>0</th>\n",
       "      <td>6215230195</td>\n",
       "      <td>UUALUgyegG</td>\n",
       "      <td>50</td>\n",
       "    </tr>\n",
       "    <tr>\n",
       "      <th>1</th>\n",
       "      <td>1904095594</td>\n",
       "      <td>XWzgHGUjYf</td>\n",
       "      <td>50</td>\n",
       "    </tr>\n",
       "    <tr>\n",
       "      <th>2</th>\n",
       "      <td>1458298847</td>\n",
       "      <td>dpboSpsWYB</td>\n",
       "      <td>50</td>\n",
       "    </tr>\n",
       "    <tr>\n",
       "      <th>3</th>\n",
       "      <td>2796481078</td>\n",
       "      <td>lqnxhehoLT</td>\n",
       "      <td>50</td>\n",
       "    </tr>\n",
       "    <tr>\n",
       "      <th>4</th>\n",
       "      <td>7575851004</td>\n",
       "      <td>uttiTdEKtq</td>\n",
       "      <td>50</td>\n",
       "    </tr>\n",
       "    <tr>\n",
       "      <th>...</th>\n",
       "      <td>...</td>\n",
       "      <td>...</td>\n",
       "      <td>...</td>\n",
       "    </tr>\n",
       "    <tr>\n",
       "      <th>9779</th>\n",
       "      <td>3164204534</td>\n",
       "      <td>DKeocPcZSI</td>\n",
       "      <td>11</td>\n",
       "    </tr>\n",
       "    <tr>\n",
       "      <th>9780</th>\n",
       "      <td>7412547215</td>\n",
       "      <td>mhoOfwxmXn</td>\n",
       "      <td>11</td>\n",
       "    </tr>\n",
       "    <tr>\n",
       "      <th>9781</th>\n",
       "      <td>3970052464</td>\n",
       "      <td>kpOOMsyjDC</td>\n",
       "      <td>11</td>\n",
       "    </tr>\n",
       "    <tr>\n",
       "      <th>9782</th>\n",
       "      <td>1394748314</td>\n",
       "      <td>kPScYGRMEY</td>\n",
       "      <td>11</td>\n",
       "    </tr>\n",
       "    <tr>\n",
       "      <th>9783</th>\n",
       "      <td>8746843904</td>\n",
       "      <td>dcNenHuuuk</td>\n",
       "      <td>11</td>\n",
       "    </tr>\n",
       "  </tbody>\n",
       "</table>\n",
       "<p>9784 rows × 3 columns</p>\n",
       "</div>"
      ],
      "text/plain": [
       "         user_id   user_name  total_orders\n",
       "0     6215230195  UUALUgyegG            50\n",
       "1     1904095594  XWzgHGUjYf            50\n",
       "2     1458298847  dpboSpsWYB            50\n",
       "3     2796481078  lqnxhehoLT            50\n",
       "4     7575851004  uttiTdEKtq            50\n",
       "...          ...         ...           ...\n",
       "9779  3164204534  DKeocPcZSI            11\n",
       "9780  7412547215  mhoOfwxmXn            11\n",
       "9781  3970052464  kpOOMsyjDC            11\n",
       "9782  1394748314  kPScYGRMEY            11\n",
       "9783  8746843904  dcNenHuuuk            11\n",
       "\n",
       "[9784 rows x 3 columns]"
      ]
     },
     "metadata": {},
     "output_type": "display_data"
    }
   ],
   "source": [
    "data, columns = client.execute(\n",
    "    '''\n",
    "    SELECT \n",
    "        u.id AS user_id,\n",
    "        u.name AS user_name,\n",
    "        COUNT(o.id) AS total_orders\n",
    "    FROM users u\n",
    "    JOIN orders o ON u.id = o.user_id\n",
    "    GROUP BY u.id, u.name\n",
    "    HAVING COUNT(o.id) > 10\n",
    "    ORDER BY total_orders DESC;\n",
    "    ''',\n",
    "    with_column_types=True)\n",
    "\n",
    "column_names = [column[0] for column in columns]\n",
    "df = pd.DataFrame(data, columns=column_names)\n",
    "display(df)"
   ]
  },
  {
   "cell_type": "markdown",
   "id": "d211aa4e-e6a4-4b9d-b5a3-131f6c19e894",
   "metadata": {},
   "source": [
    "### Найти средний размер заказа для каждого пользователя за последний месяц."
   ]
  },
  {
   "cell_type": "code",
   "execution_count": 24,
   "id": "71e12f05-e2ee-432a-a6b5-daabb3150321",
   "metadata": {},
   "outputs": [
    {
     "data": {
      "text/html": [
       "<div>\n",
       "<style scoped>\n",
       "    .dataframe tbody tr th:only-of-type {\n",
       "        vertical-align: middle;\n",
       "    }\n",
       "\n",
       "    .dataframe tbody tr th {\n",
       "        vertical-align: top;\n",
       "    }\n",
       "\n",
       "    .dataframe thead th {\n",
       "        text-align: right;\n",
       "    }\n",
       "</style>\n",
       "<table border=\"1\" class=\"dataframe\">\n",
       "  <thead>\n",
       "    <tr style=\"text-align: right;\">\n",
       "      <th></th>\n",
       "      <th>user_id</th>\n",
       "      <th>user_name</th>\n",
       "      <th>avg_order_size</th>\n",
       "    </tr>\n",
       "  </thead>\n",
       "  <tbody>\n",
       "    <tr>\n",
       "      <th>0</th>\n",
       "      <td>7758823493</td>\n",
       "      <td>DvHvPWBYUJ</td>\n",
       "      <td>500.00</td>\n",
       "    </tr>\n",
       "    <tr>\n",
       "      <th>1</th>\n",
       "      <td>8159094944</td>\n",
       "      <td>AyugyEBHlD</td>\n",
       "      <td>499.99</td>\n",
       "    </tr>\n",
       "    <tr>\n",
       "      <th>2</th>\n",
       "      <td>3360856058</td>\n",
       "      <td>ZvwTQxcwcq</td>\n",
       "      <td>499.99</td>\n",
       "    </tr>\n",
       "    <tr>\n",
       "      <th>3</th>\n",
       "      <td>8800542876</td>\n",
       "      <td>lmrZtjjmvY</td>\n",
       "      <td>499.99</td>\n",
       "    </tr>\n",
       "    <tr>\n",
       "      <th>4</th>\n",
       "      <td>4475678889</td>\n",
       "      <td>fNerYgzLsc</td>\n",
       "      <td>499.98</td>\n",
       "    </tr>\n",
       "    <tr>\n",
       "      <th>...</th>\n",
       "      <td>...</td>\n",
       "      <td>...</td>\n",
       "      <td>...</td>\n",
       "    </tr>\n",
       "    <tr>\n",
       "      <th>80150</th>\n",
       "      <td>8139395631</td>\n",
       "      <td>uOZAoxBycz</td>\n",
       "      <td>10.02</td>\n",
       "    </tr>\n",
       "    <tr>\n",
       "      <th>80151</th>\n",
       "      <td>1491612708</td>\n",
       "      <td>UCxIkrwOlB</td>\n",
       "      <td>10.02</td>\n",
       "    </tr>\n",
       "    <tr>\n",
       "      <th>80152</th>\n",
       "      <td>4688207173</td>\n",
       "      <td>ggnsWdQrxv</td>\n",
       "      <td>10.02</td>\n",
       "    </tr>\n",
       "    <tr>\n",
       "      <th>80153</th>\n",
       "      <td>7393252052</td>\n",
       "      <td>WjWcyCRbgt</td>\n",
       "      <td>10.02</td>\n",
       "    </tr>\n",
       "    <tr>\n",
       "      <th>80154</th>\n",
       "      <td>6352750743</td>\n",
       "      <td>etijEdZoau</td>\n",
       "      <td>10.00</td>\n",
       "    </tr>\n",
       "  </tbody>\n",
       "</table>\n",
       "<p>80155 rows × 3 columns</p>\n",
       "</div>"
      ],
      "text/plain": [
       "          user_id   user_name  avg_order_size\n",
       "0      7758823493  DvHvPWBYUJ          500.00\n",
       "1      8159094944  AyugyEBHlD          499.99\n",
       "2      3360856058  ZvwTQxcwcq          499.99\n",
       "3      8800542876  lmrZtjjmvY          499.99\n",
       "4      4475678889  fNerYgzLsc          499.98\n",
       "...           ...         ...             ...\n",
       "80150  8139395631  uOZAoxBycz           10.02\n",
       "80151  1491612708  UCxIkrwOlB           10.02\n",
       "80152  4688207173  ggnsWdQrxv           10.02\n",
       "80153  7393252052  WjWcyCRbgt           10.02\n",
       "80154  6352750743  etijEdZoau           10.00\n",
       "\n",
       "[80155 rows x 3 columns]"
      ]
     },
     "metadata": {},
     "output_type": "display_data"
    }
   ],
   "source": [
    "data, columns = client.execute(\n",
    "    '''\n",
    "    SELECT \n",
    "        u.id AS user_id,\n",
    "        u.name AS user_name,\n",
    "        AVG(o.total_price) AS avg_order_size\n",
    "    FROM users AS u\n",
    "    JOIN orders AS o ON u.id = o.user_id\n",
    "    WHERE o.created_at >= now() - INTERVAL 1 MONTH\n",
    "    GROUP BY u.id, u.name\n",
    "    ORDER BY avg_order_size DESC;\n",
    "    ''',\n",
    "    with_column_types=True)\n",
    "\n",
    "column_names = [column[0] for column in columns]\n",
    "df = pd.DataFrame(data, columns=column_names)\n",
    "display(df)"
   ]
  },
  {
   "cell_type": "markdown",
   "id": "34f9773d-2967-4a2b-86aa-574bf98e7ea9",
   "metadata": {},
   "source": [
    "### Средний размер заказа за каждый месяц в текущем году и средний размер заказа за соответствующий месяц в прошлом году"
   ]
  },
  {
   "cell_type": "code",
   "execution_count": 22,
   "id": "82b210a9-edae-4988-bc7d-32b5b85bb251",
   "metadata": {},
   "outputs": [
    {
     "data": {
      "text/html": [
       "<div>\n",
       "<style scoped>\n",
       "    .dataframe tbody tr th:only-of-type {\n",
       "        vertical-align: middle;\n",
       "    }\n",
       "\n",
       "    .dataframe tbody tr th {\n",
       "        vertical-align: top;\n",
       "    }\n",
       "\n",
       "    .dataframe thead th {\n",
       "        text-align: right;\n",
       "    }\n",
       "</style>\n",
       "<table border=\"1\" class=\"dataframe\">\n",
       "  <thead>\n",
       "    <tr style=\"text-align: right;\">\n",
       "      <th></th>\n",
       "      <th>month</th>\n",
       "      <th>avg_order_size_2024</th>\n",
       "      <th>avg_order_size_2023</th>\n",
       "      <th>difference</th>\n",
       "    </tr>\n",
       "  </thead>\n",
       "  <tbody>\n",
       "    <tr>\n",
       "      <th>0</th>\n",
       "      <td>1</td>\n",
       "      <td>254.506480</td>\n",
       "      <td>255.164159</td>\n",
       "      <td>-0.657679</td>\n",
       "    </tr>\n",
       "    <tr>\n",
       "      <th>1</th>\n",
       "      <td>2</td>\n",
       "      <td>255.169323</td>\n",
       "      <td>253.808994</td>\n",
       "      <td>1.360328</td>\n",
       "    </tr>\n",
       "    <tr>\n",
       "      <th>2</th>\n",
       "      <td>3</td>\n",
       "      <td>255.057074</td>\n",
       "      <td>254.809477</td>\n",
       "      <td>0.247597</td>\n",
       "    </tr>\n",
       "    <tr>\n",
       "      <th>3</th>\n",
       "      <td>4</td>\n",
       "      <td>255.718120</td>\n",
       "      <td>254.719599</td>\n",
       "      <td>0.998522</td>\n",
       "    </tr>\n",
       "    <tr>\n",
       "      <th>4</th>\n",
       "      <td>5</td>\n",
       "      <td>254.876941</td>\n",
       "      <td>255.142092</td>\n",
       "      <td>-0.265151</td>\n",
       "    </tr>\n",
       "    <tr>\n",
       "      <th>5</th>\n",
       "      <td>6</td>\n",
       "      <td>255.464819</td>\n",
       "      <td>255.444229</td>\n",
       "      <td>0.020590</td>\n",
       "    </tr>\n",
       "    <tr>\n",
       "      <th>6</th>\n",
       "      <td>7</td>\n",
       "      <td>254.853804</td>\n",
       "      <td>254.602811</td>\n",
       "      <td>0.250993</td>\n",
       "    </tr>\n",
       "    <tr>\n",
       "      <th>7</th>\n",
       "      <td>8</td>\n",
       "      <td>255.051252</td>\n",
       "      <td>254.694861</td>\n",
       "      <td>0.356391</td>\n",
       "    </tr>\n",
       "    <tr>\n",
       "      <th>8</th>\n",
       "      <td>9</td>\n",
       "      <td>255.043652</td>\n",
       "      <td>255.748409</td>\n",
       "      <td>-0.704757</td>\n",
       "    </tr>\n",
       "    <tr>\n",
       "      <th>9</th>\n",
       "      <td>10</td>\n",
       "      <td>254.744101</td>\n",
       "      <td>254.876065</td>\n",
       "      <td>-0.131964</td>\n",
       "    </tr>\n",
       "    <tr>\n",
       "      <th>10</th>\n",
       "      <td>11</td>\n",
       "      <td>255.210650</td>\n",
       "      <td>253.937510</td>\n",
       "      <td>1.273141</td>\n",
       "    </tr>\n",
       "    <tr>\n",
       "      <th>11</th>\n",
       "      <td>12</td>\n",
       "      <td>0.000000</td>\n",
       "      <td>255.384843</td>\n",
       "      <td>-255.384843</td>\n",
       "    </tr>\n",
       "  </tbody>\n",
       "</table>\n",
       "</div>"
      ],
      "text/plain": [
       "    month  avg_order_size_2024  avg_order_size_2023  difference\n",
       "0       1           254.506480           255.164159   -0.657679\n",
       "1       2           255.169323           253.808994    1.360328\n",
       "2       3           255.057074           254.809477    0.247597\n",
       "3       4           255.718120           254.719599    0.998522\n",
       "4       5           254.876941           255.142092   -0.265151\n",
       "5       6           255.464819           255.444229    0.020590\n",
       "6       7           254.853804           254.602811    0.250993\n",
       "7       8           255.051252           254.694861    0.356391\n",
       "8       9           255.043652           255.748409   -0.704757\n",
       "9      10           254.744101           254.876065   -0.131964\n",
       "10     11           255.210650           253.937510    1.273141\n",
       "11     12             0.000000           255.384843 -255.384843"
      ]
     },
     "metadata": {},
     "output_type": "display_data"
    }
   ],
   "source": [
    "data, columns = client.execute(\n",
    "    '''\n",
    "    WITH \n",
    "        avg_2024 AS (SELECT \n",
    "            toMonth(created_at) AS month,\n",
    "            AVG(total_price) AS avg_order_size_2024\n",
    "        FROM orders\n",
    "        WHERE \n",
    "            created_at >= '2024-01-01' AND created_at < '2025-01-01'\n",
    "        GROUP BY month),\n",
    "        \n",
    "        avg_2023 AS (SELECT \n",
    "            toMonth(created_at) AS month,\n",
    "            AVG(total_price) AS avg_order_size_2023\n",
    "        FROM orders\n",
    "        WHERE \n",
    "            created_at >= '2023-01-01' AND created_at < '2024-01-01'\n",
    "        GROUP BY month)\n",
    "        \n",
    "    SELECT \n",
    "        toMonth(toDate('2024-01-01') + INTERVAL month-1 MONTH) AS month,\n",
    "        avg_2024.avg_order_size_2024,\n",
    "        avg_2023.avg_order_size_2023,\n",
    "        (avg_2024.avg_order_size_2024 - avg_2023.avg_order_size_2023) AS difference\n",
    "    FROM avg_2024\n",
    "    FULL JOIN avg_2023 ON avg_2024.month = avg_2023.month\n",
    "    ORDER BY month\n",
    "    ''',\n",
    "    with_column_types=True)\n",
    "\n",
    "column_names = [column[0] for column in columns]\n",
    "df = pd.DataFrame(data, columns=column_names)\n",
    "display(df)"
   ]
  },
  {
   "cell_type": "markdown",
   "id": "2989c13d-edea-4757-85de-70432bc98152",
   "metadata": {},
   "source": [
    "### 10 пользователей с наибольшим количеством заказов за последний год, и их средний размер заказа за последний месяц"
   ]
  },
  {
   "cell_type": "code",
   "execution_count": 25,
   "id": "495904b8-cf7b-430a-af97-d0899ad08819",
   "metadata": {},
   "outputs": [
    {
     "data": {
      "text/html": [
       "<div>\n",
       "<style scoped>\n",
       "    .dataframe tbody tr th:only-of-type {\n",
       "        vertical-align: middle;\n",
       "    }\n",
       "\n",
       "    .dataframe tbody tr th {\n",
       "        vertical-align: top;\n",
       "    }\n",
       "\n",
       "    .dataframe thead th {\n",
       "        text-align: right;\n",
       "    }\n",
       "</style>\n",
       "<table border=\"1\" class=\"dataframe\">\n",
       "  <thead>\n",
       "    <tr style=\"text-align: right;\">\n",
       "      <th></th>\n",
       "      <th>user_id</th>\n",
       "      <th>name</th>\n",
       "      <th>email</th>\n",
       "      <th>order_count</th>\n",
       "      <th>avg_order_size</th>\n",
       "    </tr>\n",
       "  </thead>\n",
       "  <tbody>\n",
       "    <tr>\n",
       "      <th>0</th>\n",
       "      <td>1066238999</td>\n",
       "      <td>CjAONDBJZy</td>\n",
       "      <td>cjaondbjzy@mail.ru</td>\n",
       "      <td>27</td>\n",
       "      <td>89057.415000</td>\n",
       "    </tr>\n",
       "    <tr>\n",
       "      <th>1</th>\n",
       "      <td>8258018890</td>\n",
       "      <td>spdGXEryBF</td>\n",
       "      <td>spdgxerybf@mail.ru</td>\n",
       "      <td>27</td>\n",
       "      <td>140789.312500</td>\n",
       "    </tr>\n",
       "    <tr>\n",
       "      <th>2</th>\n",
       "      <td>4402374827</td>\n",
       "      <td>FwUWuqAmce</td>\n",
       "      <td>fwuwuqamce@mail.ru</td>\n",
       "      <td>26</td>\n",
       "      <td>38807.020000</td>\n",
       "    </tr>\n",
       "    <tr>\n",
       "      <th>3</th>\n",
       "      <td>5136559090</td>\n",
       "      <td>ZlWgZoPrMZ</td>\n",
       "      <td>zlwgzoprmz@mail.ru</td>\n",
       "      <td>26</td>\n",
       "      <td>228740.976000</td>\n",
       "    </tr>\n",
       "    <tr>\n",
       "      <th>4</th>\n",
       "      <td>3134574026</td>\n",
       "      <td>twCGIvVoYN</td>\n",
       "      <td>twcgivvoyn@mail.ru</td>\n",
       "      <td>26</td>\n",
       "      <td>144855.308571</td>\n",
       "    </tr>\n",
       "    <tr>\n",
       "      <th>5</th>\n",
       "      <td>9447181256</td>\n",
       "      <td>sjwiCLRNSA</td>\n",
       "      <td>sjwiclrnsa@mail.ru</td>\n",
       "      <td>26</td>\n",
       "      <td>24876.660000</td>\n",
       "    </tr>\n",
       "    <tr>\n",
       "      <th>6</th>\n",
       "      <td>1594260174</td>\n",
       "      <td>lPRugtMrQs</td>\n",
       "      <td>lprugtmrqs@mail.ru</td>\n",
       "      <td>25</td>\n",
       "      <td>123710.220000</td>\n",
       "    </tr>\n",
       "    <tr>\n",
       "      <th>7</th>\n",
       "      <td>9325845087</td>\n",
       "      <td>PdRCUndMDa</td>\n",
       "      <td>pdrcundmda@mail.ru</td>\n",
       "      <td>25</td>\n",
       "      <td>248198.670000</td>\n",
       "    </tr>\n",
       "    <tr>\n",
       "      <th>8</th>\n",
       "      <td>6578425776</td>\n",
       "      <td>gCeohXkZCu</td>\n",
       "      <td>gceohxkzcu@mail.ru</td>\n",
       "      <td>25</td>\n",
       "      <td>99330.264000</td>\n",
       "    </tr>\n",
       "    <tr>\n",
       "      <th>9</th>\n",
       "      <td>8491657286</td>\n",
       "      <td>AvBssQdZkw</td>\n",
       "      <td>avbssqdzkw@mail.ru</td>\n",
       "      <td>25</td>\n",
       "      <td>188007.810000</td>\n",
       "    </tr>\n",
       "  </tbody>\n",
       "</table>\n",
       "</div>"
      ],
      "text/plain": [
       "      user_id        name               email  order_count  avg_order_size\n",
       "0  1066238999  CjAONDBJZy  cjaondbjzy@mail.ru           27    89057.415000\n",
       "1  8258018890  spdGXEryBF  spdgxerybf@mail.ru           27   140789.312500\n",
       "2  4402374827  FwUWuqAmce  fwuwuqamce@mail.ru           26    38807.020000\n",
       "3  5136559090  ZlWgZoPrMZ  zlwgzoprmz@mail.ru           26   228740.976000\n",
       "4  3134574026  twCGIvVoYN  twcgivvoyn@mail.ru           26   144855.308571\n",
       "5  9447181256  sjwiCLRNSA  sjwiclrnsa@mail.ru           26    24876.660000\n",
       "6  1594260174  lPRugtMrQs  lprugtmrqs@mail.ru           25   123710.220000\n",
       "7  9325845087  PdRCUndMDa  pdrcundmda@mail.ru           25   248198.670000\n",
       "8  6578425776  gCeohXkZCu  gceohxkzcu@mail.ru           25    99330.264000\n",
       "9  8491657286  AvBssQdZkw  avbssqdzkw@mail.ru           25   188007.810000"
      ]
     },
     "metadata": {},
     "output_type": "display_data"
    }
   ],
   "source": [
    "data, columns = client.execute(\n",
    "    '''\n",
    "    WITH \n",
    "        orders_count AS ( -- количество заказов пользователей за последний год\n",
    "            SELECT \n",
    "                user_id,\n",
    "                COUNT(*) AS order_count\n",
    "            FROM orders\n",
    "            WHERE created_at >= now() - INTERVAL 1 YEAR\n",
    "            GROUP BY user_id\n",
    "            ORDER BY order_count DESC\n",
    "            LIMIT 10\n",
    "        ),\n",
    "        \n",
    "        average_order_size AS ( -- средний размер заказа для пользователей, у которых есть заказы за последний месяц\n",
    "            SELECT\n",
    "                o.user_id,\n",
    "                AVG(oi.price * oi.quantity) AS avg_order_size\n",
    "            FROM orders o\n",
    "            JOIN order_items oi ON o.id = oi.order_id\n",
    "            WHERE o.created_at >= now() - INTERVAL 1 MONTH\n",
    "            GROUP BY o.user_id\n",
    "        )\n",
    "    \n",
    "    SELECT \n",
    "        u.id AS user_id,\n",
    "        u.name AS name,\n",
    "        u.email AS email,\n",
    "        oc.order_count AS order_count,\n",
    "        aos.avg_order_size AS avg_order_size\n",
    "    FROM users u\n",
    "    JOIN orders_count oc ON u.id = oc.user_id\n",
    "    LEFT JOIN average_order_size aos ON u.id = aos.user_id\n",
    "    ORDER BY oc.order_count DESC;\n",
    "    ''',\n",
    "    with_column_types=True)\n",
    "\n",
    "column_names = [column[0] for column in columns]\n",
    "df = pd.DataFrame(data, columns=column_names)\n",
    "display(df)"
   ]
  }
 ],
 "metadata": {
  "kernelspec": {
   "display_name": "Python 3 (ipykernel)",
   "language": "python",
   "name": "python3"
  },
  "language_info": {
   "codemirror_mode": {
    "name": "ipython",
    "version": 3
   },
   "file_extension": ".py",
   "mimetype": "text/x-python",
   "name": "python",
   "nbconvert_exporter": "python",
   "pygments_lexer": "ipython3",
   "version": "3.9.13"
  }
 },
 "nbformat": 4,
 "nbformat_minor": 5
}
